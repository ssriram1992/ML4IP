{
 "cells": [
  {
   "cell_type": "markdown",
   "metadata": {},
   "source": [
    "## Preliminaries"
   ]
  },
  {
   "cell_type": "markdown",
   "metadata": {},
   "source": [
    "This iPython notebook is written to play around with a small pure integer problem. \n",
    "First random data is generated for a problem in standard form.\n",
    "After this, the LP relaxation is solved (using a call to CPLEX)\n",
    "After this, GMI cuts are added and the new LP relaxation is solved\n",
    "After this X cuts and GX cuts are added and the new LP relaxations are solved\n",
    "Finally the IP is solved\n",
    "Then a summary of minimization objective value obtained in each of these is printed."
   ]
  },
  {
   "cell_type": "markdown",
   "metadata": {},
   "source": [
    "### Library loading"
   ]
  },
  {
   "cell_type": "code",
   "execution_count": 1,
   "metadata": {
    "collapsed": true
   },
   "outputs": [],
   "source": [
    "%load_ext autoreload\n",
    "%autoreload\n",
    "\n",
    "import numpy as np\n",
    "import scipy as sp\n",
    "import copy\n",
    "\n",
    "\n",
    "from Cuts import *\n",
    "from ReprVars import *\n",
    "from CPLEXInterface import *"
   ]
  },
  {
   "cell_type": "markdown",
   "metadata": {},
   "source": [
    "### Problem size definition"
   ]
  },
  {
   "cell_type": "code",
   "execution_count": 2,
   "metadata": {
    "collapsed": true
   },
   "outputs": [],
   "source": [
    "Nvar = 5\n",
    "Ncons = 2\n",
    "Num_IP = 1\n",
    "Num_X_inst = 5\n"
   ]
  },
  {
   "cell_type": "markdown",
   "metadata": {},
   "source": [
    "### Data generation"
   ]
  },
  {
   "cell_type": "code",
   "execution_count": 8,
   "metadata": {
    "collapsed": true
   },
   "outputs": [],
   "source": [
    "# Data generation\n",
    "A = np.random.randint(-10, 10, (Ncons, Nvar))\n",
    "b = np.random.randint(0, 100, (Ncons, 1))\n",
    "f = np.random.randint(-100, 100, (Nvar, 1))\n",
    "cont_var = np.zeros((Nvar, 1))\n",
    "int_var = 1-cont_var;\n",
    "\n",
    "# print(A, b, f, cont_var)"
   ]
  },
  {
   "cell_type": "code",
   "execution_count": 9,
   "metadata": {},
   "outputs": [
    {
     "name": "stdout",
     "output_type": "stream",
     "text": [
      "[[ 5 -6 -7  4 -6]\n",
      " [-5  7 -3 -4  9]] [[66]\n",
      " [43]] [[ -2]\n",
      " [ 28]\n",
      " [ 43]\n",
      " [ 95]\n",
      " [-17]]\n"
     ]
    }
   ],
   "source": [
    "# A = np.array([\n",
    "#     [-10,-5,5,6,1],\n",
    "#     [6,7,2,-5,0]\n",
    "# ])\n",
    "# b = np.array([\n",
    "#     [86],\n",
    "#     [95]\n",
    "# ])\n",
    "# f = np.array([\n",
    "#     [30],\n",
    "#     [17],\n",
    "#     [62],\n",
    "#     [46],\n",
    "#     [42]\n",
    "# ])\n",
    "print(A, b, f)"
   ]
  },
  {
   "cell_type": "markdown",
   "metadata": {},
   "source": [
    "### Solving LP relaxation from CPLEX and retrieving data from CPLEX"
   ]
  },
  {
   "cell_type": "code",
   "execution_count": 10,
   "metadata": {},
   "outputs": [
    {
     "name": "stdout",
     "output_type": "stream",
     "text": [
      "\n",
      "\n",
      "Tableaux : [[ 0.          0.33333333 -3.33333333  0.          1.        ]\n",
      " [ 1.         -0.8        -5.4         0.8         0.        ]]\n",
      "NonBasic : [1 2 3]\n",
      "Solution : [[ 56.8       ]\n",
      " [  0.        ]\n",
      " [  0.        ]\n",
      " [  0.        ]\n",
      " [ 36.33333333]]\n",
      "Basic : [0 4]\n",
      "Objective : -731.2666666666668\n"
     ]
    },
    {
     "data": {
      "text/plain": [
       "[None, None, None, None, None]"
      ]
     },
     "execution_count": 10,
     "metadata": {},
     "output_type": "execute_result"
    }
   ],
   "source": [
    "M = MIP(form = 1, data = {\n",
    "    'f':f,\n",
    "    'Aeq': A,\n",
    "    'beq': b,\n",
    "    'cont': cont_var\n",
    "})\n",
    "#print(M.f, M.Aeq, M.beq, M.cont)\n",
    "M_cplex = Py2Cplex(M)\n",
    "LPSolution = getfromCPLEX(M_cplex)\n",
    "print()\n",
    "print()\n",
    "[print(p,':', q) for p,q in LPSolution.items()]\n"
   ]
  },
  {
   "cell_type": "code",
   "execution_count": 12,
   "metadata": {},
   "outputs": [
    {
     "name": "stdout",
     "output_type": "stream",
     "text": [
      "Basis: ([1, 0, 0, 0, 1], [0, 0])\n"
     ]
    }
   ],
   "source": [
    "print('Basis:',M_cplex.solution.basis.get_basis())"
   ]
  },
  {
   "cell_type": "code",
   "execution_count": 44,
   "metadata": {
    "collapsed": true
   },
   "outputs": [
    {
     "name": "stderr",
     "output_type": "stream",
     "text": [
      "Default column names x1, x2 ... being created.\n",
      "Default row    names c1, c2 ... being created.\n"
     ]
    }
   ],
   "source": [
    "M_cplex.write(\"smallLP.mps\")"
   ]
  },
  {
   "cell_type": "markdown",
   "metadata": {},
   "source": [
    "## GMI cuts"
   ]
  },
  {
   "cell_type": "markdown",
   "metadata": {},
   "source": [
    "### Cut generation"
   ]
  },
  {
   "cell_type": "code",
   "execution_count": 32,
   "metadata": {
    "collapsed": true
   },
   "outputs": [
    {
     "name": "stdout",
     "output_type": "stream",
     "text": [
      "[[1]\n",
      " [1]]\n",
      "[[ 0.42105263  0.31578947  0.89473684]\n",
      " [ 0.15789474  0.63157895  0.28947368]] [[ 1.]\n",
      " [ 1.]]\n"
     ]
    }
   ],
   "source": [
    "(A_GMI, b_GMI) = GMI(\n",
    "    LPSolution[\"Tableaux\"][:, LPSolution[\"NonBasic\"]], \n",
    "    LPSolution[\"Solution\"], \n",
    "    int_var[LPSolution[\"Basic\"]].astype(int), \n",
    "    cont_var[LPSolution[\"NonBasic\"]].astype(int)\n",
    ")\n",
    "print(int_var[LPSolution[\"Basic\"]].astype(int))\n",
    "print(A_GMI, b_GMI)"
   ]
  },
  {
   "cell_type": "markdown",
   "metadata": {},
   "source": [
    "### Adding cuts and solving new LP"
   ]
  },
  {
   "cell_type": "code",
   "execution_count": 33,
   "metadata": {
    "collapsed": true
   },
   "outputs": [
    {
     "name": "stdout",
     "output_type": "stream",
     "text": [
      "CPXPARAM_Preprocessing_Fill                      0\n",
      "CPXPARAM_Preprocessing_Aggregator                0\n",
      "CPXPARAM_Preprocessing_Presolve                  0\n",
      "CPXPARAM_Preprocessing_NumPass                   0\n",
      "CPXPARAM_Read_DataCheck                          1\n",
      "CPXPARAM_Preprocessing_Reduce                    0\n",
      "CPXPARAM_Preprocessing_Linear                    0\n",
      "CPXPARAM_LPMethod                                1\n",
      "CPXPARAM_Read_APIEncoding                        \"UTF-8\"\n",
      "CPXPARAM_MIP_Strategy_CallbackReducedLP          0\n",
      "Tried aggregator 0 times.\n",
      "Presolve time = 0.00 sec. (0.00 ticks)\n",
      "\n",
      "Tableaux : [[ 1.          2.9122807   0.          0.          0.         -2.66666667\n",
      "   0.33333333]\n",
      " [ 0.          0.04093567  1.          0.          0.          0.61111111\n",
      "  -1.88888889]\n",
      " [ 0.          0.87719298  0.          0.          1.         -1.83333333\n",
      "   0.66666667]\n",
      " [ 0.          0.45614035  0.          1.          0.         -1.33333333\n",
      "   0.66666667]]\n",
      "NonBasic : [1 5 6]\n",
      "Objective : 382.9444444444499\n",
      "Basic : [0 2 3 4]\n",
      "Solution : [[ 19.83333333]\n",
      " [  0.        ]\n",
      " [  1.27777778]\n",
      " [  0.66666667]\n",
      " [ 16.66666667]\n",
      " [  0.        ]\n",
      " [  0.        ]]\n"
     ]
    },
    {
     "data": {
      "text/plain": [
       "[None, None, None, None, None]"
      ]
     },
     "execution_count": 33,
     "metadata": {},
     "output_type": "execute_result"
    }
   ],
   "source": [
    "GMI_M = addCuts(M, LPSolution[\"NonBasic\"], A_GMI, b_GMI)\n",
    "GMI_cplex = Py2Cplex(GMI_M)\n",
    "GMIans = getfromCPLEX(GMI_cplex)\n",
    "print()\n",
    "[print(p,':', q) for p,q in GMIans.items()]"
   ]
  },
  {
   "cell_type": "code",
   "execution_count": 34,
   "metadata": {
    "collapsed": true
   },
   "outputs": [
    {
     "name": "stdout",
     "output_type": "stream",
     "text": [
      "Before GMI [[ 278.]]\n",
      "After GMI [[ 382.94444444]]\n",
      "[[ -2  -2   0  -7   8]\n",
      " [  5   9  -3 -10  -1]] [[89]\n",
      " [72]]\n",
      "[[ -2.          -2.           0.          -7.           8.           0.\n",
      "    0.        ]\n",
      " [  5.           9.          -3.         -10.          -1.           0.\n",
      "    0.        ]\n",
      " [  0.          -0.42105263  -0.31578947  -0.89473684   0.           1.\n",
      "    0.        ]\n",
      " [  0.          -0.15789474  -0.63157895  -0.28947368   0.           0.\n",
      "    1.        ]] [[ 89.]\n",
      " [ 72.]\n",
      " [ -1.]\n",
      " [ -1.]]\n"
     ]
    }
   ],
   "source": [
    "print(\"Before GMI\", M.f.T.dot(LPSolution[\"Solution\"]))\n",
    "print(\"After GMI\", GMI_M.f.T.dot(GMIans[\"Solution\"]))\n",
    "\n",
    "print(M.Aeq, M.beq)\n",
    "print(GMI_M.Aeq, GMI_M.beq)"
   ]
  },
  {
   "cell_type": "markdown",
   "metadata": {},
   "source": [
    "## X cuts and GX cuts"
   ]
  },
  {
   "cell_type": "markdown",
   "metadata": {},
   "source": [
    "### Generating RowMat and muMat"
   ]
  },
  {
   "cell_type": "code",
   "execution_count": 35,
   "metadata": {
    "collapsed": true
   },
   "outputs": [
    {
     "name": "stdout",
     "output_type": "stream",
     "text": [
      "[[ 17.5]\n",
      " [ 15.5]]\n"
     ]
    }
   ],
   "source": [
    "x_B = LPSolution[\"Solution\"][LPSolution[\"Basic\"]]\n",
    "print(x_B)\n",
    "ans = Rows4Xcut(x_B, 2, 5, int_var[LPSolution[\"Basic\"]], 1)\n",
    "#print(ans[\"muMat\"], ans[\"fMat\"], ans[\"RowMat\"])"
   ]
  },
  {
   "cell_type": "markdown",
   "metadata": {},
   "source": [
    "### Generating X cuts"
   ]
  },
  {
   "cell_type": "code",
   "execution_count": 36,
   "metadata": {
    "collapsed": true
   },
   "outputs": [
    {
     "name": "stdout",
     "output_type": "stream",
     "text": [
      "cut 1 generated\n",
      "cut 2 generated\n",
      "cut 3 generated\n",
      "cut 4 generated\n",
      "cut 5 generated\n",
      "[[ 0.37353363  0.50586547  0.75217984]\n",
      " [ 0.37813459  0.48746163  0.76598272]\n",
      " [ 0.37622988  0.49508048  0.76026859]\n",
      " [ 0.36947133  0.52211467  0.73999295]\n",
      " [ 0.38756738  0.44973046  0.7942811 ]] [[ 1.]\n",
      " [ 1.]\n",
      " [ 1.]\n",
      " [ 1.]\n",
      " [ 1.]]\n"
     ]
    }
   ],
   "source": [
    "(A_X, b_X) = XLift(\n",
    "    LPSolution[\"Tableaux\"][:, LPSolution[\"NonBasic\"]], \n",
    "    LPSolution[\"Solution\"][LPSolution[\"Basic\"]],\n",
    "    ans[\"RowMat\"],\n",
    "    ans[\"muMat\"],\n",
    "    cont_var[LPSolution[\"NonBasic\"]].astype(int)\n",
    ")\n",
    "print(A_X, b_X)"
   ]
  },
  {
   "cell_type": "markdown",
   "metadata": {},
   "source": [
    "### Adding the cuts and solving LP"
   ]
  },
  {
   "cell_type": "code",
   "execution_count": 37,
   "metadata": {
    "collapsed": true
   },
   "outputs": [
    {
     "name": "stdout",
     "output_type": "stream",
     "text": [
      "CPXPARAM_Preprocessing_Fill                      0\n",
      "CPXPARAM_Preprocessing_Aggregator                0\n",
      "CPXPARAM_Preprocessing_Presolve                  0\n",
      "CPXPARAM_Preprocessing_NumPass                   0\n",
      "CPXPARAM_Read_DataCheck                          1\n",
      "CPXPARAM_Preprocessing_Reduce                    0\n",
      "CPXPARAM_Preprocessing_Linear                    0\n",
      "CPXPARAM_LPMethod                                1\n",
      "CPXPARAM_Read_APIEncoding                        \"UTF-8\"\n",
      "CPXPARAM_MIP_Strategy_CallbackReducedLP          0\n",
      "Tried aggregator 0 times.\n",
      "Presolve time = 0.00 sec. (0.00 ticks)\n",
      "Tableaux  :  [[ 0.          0.          0.          0.          0.          1.          0.\n",
      "   0.         -0.77551465 -0.22448535]\n",
      " [ 0.         -0.          0.          0.          0.          0.          1.\n",
      "   0.         -0.52126249 -0.47873751]\n",
      " [ 0.          0.          0.          0.          0.          0.          0.\n",
      "   1.         -0.62651814 -0.37348186]\n",
      " [ 1.          2.90514076  0.          0.          0.          0.          0.\n",
      "   0.          6.4461587  -8.88801916]\n",
      " [ 0.          0.08139535  1.          0.          0.          0.          0.\n",
      "   0.         -9.69718207  9.03439137]\n",
      " [ 0.          0.8629131   0.          0.          1.          0.          0.\n",
      "   0.          6.41585692 -7.79957785]\n",
      " [ 0.          0.44186047  0.          1.          0.          0.          0.\n",
      "   0.          5.49064828 -6.37436921]]\n",
      "NonBasic  :  [8 1 9]\n",
      "Objective  :  372.1279069767486\n",
      "Basic  :  [0 2 3 4 5 6 7]\n",
      "Solution  :  [[ 19.94186047]\n",
      " [  0.        ]\n",
      " [  0.6627907 ]\n",
      " [  0.88372093]\n",
      " [ 16.88372093]\n",
      " [ -0.        ]\n",
      " [  0.        ]\n",
      " [  0.        ]\n",
      " [  0.        ]\n",
      " [  0.        ]]\n"
     ]
    },
    {
     "data": {
      "text/plain": [
       "[None, None, None, None, None]"
      ]
     },
     "execution_count": 37,
     "metadata": {},
     "output_type": "execute_result"
    }
   ],
   "source": [
    "X_M = addCuts(M, LPSolution[\"NonBasic\"], A_X, b_X)\n",
    "X_cplex = Py2Cplex(X_M)\n",
    "Xans = getfromCPLEX(X_cplex)\n",
    "[print(p,' : ',q) for p,q in Xans.items()]"
   ]
  },
  {
   "cell_type": "markdown",
   "metadata": {},
   "source": [
    "### Generating GX cuts"
   ]
  },
  {
   "cell_type": "code",
   "execution_count": 38,
   "metadata": {
    "collapsed": true
   },
   "outputs": [
    {
     "name": "stdout",
     "output_type": "stream",
     "text": [
      "cut 0generated\n",
      "cut 1generated\n",
      "cut 2generated\n",
      "cut 3generated\n",
      "cut 4generated\n",
      "[[ 0.3363365   0.320737    0.88016368]\n",
      " [ 0.4193184   0.69318583  0.76151048]\n",
      " [ 0.34371062  0.35641411  0.814398  ]\n",
      " [ 0.32384827  0.42409179  0.62247477]\n",
      " [ 0.39775184  0.47391461  0.84202846]] [[ 1.]\n",
      " [ 1.]\n",
      " [ 1.]\n",
      " [ 1.]\n",
      " [ 1.]]\n",
      "[[ 0.21052632 -0.15789474 -1.44736842]\n",
      " [ 1.84210526 -0.63157895 -2.28947368]]\n"
     ]
    }
   ],
   "source": [
    "(A_GX, b_GX) = GXLift(\n",
    "    LPSolution[\"Tableaux\"][:, LPSolution[\"NonBasic\"]], \n",
    "    LPSolution[\"Solution\"][LPSolution[\"Basic\"]],\n",
    "    ans[\"RowMat\"],\n",
    "    ans[\"muMat\"],\n",
    "    ans[\"fMat\"],\n",
    "    cont_var[LPSolution[\"NonBasic\"]].astype(int)\n",
    ")\n",
    "print(A_GX, b_GX)\n",
    "print(LPSolution[\"Tableaux\"][:, LPSolution[\"NonBasic\"]])"
   ]
  },
  {
   "cell_type": "markdown",
   "metadata": {},
   "source": [
    "### Adding the cuts and solving LP"
   ]
  },
  {
   "cell_type": "code",
   "execution_count": 39,
   "metadata": {
    "collapsed": true
   },
   "outputs": [
    {
     "name": "stdout",
     "output_type": "stream",
     "text": [
      "CPXPARAM_Preprocessing_Fill                      0\n",
      "CPXPARAM_Preprocessing_Aggregator                0\n",
      "CPXPARAM_Preprocessing_Presolve                  0\n",
      "CPXPARAM_Preprocessing_NumPass                   0\n",
      "CPXPARAM_Read_DataCheck                          1\n",
      "CPXPARAM_Preprocessing_Reduce                    0\n",
      "CPXPARAM_Preprocessing_Linear                    0\n",
      "CPXPARAM_LPMethod                                1\n",
      "CPXPARAM_Read_APIEncoding                        \"UTF-8\"\n",
      "CPXPARAM_MIP_Strategy_CallbackReducedLP          0\n",
      "Tried aggregator 0 times.\n",
      "Presolve time = 0.00 sec. (0.00 ticks)\n",
      "Tableaux  :  [[  0.00000000e+00   4.35887104e-01   1.00000000e+00   0.00000000e+00\n",
      "    0.00000000e+00   3.58528139e+00   0.00000000e+00   0.00000000e+00\n",
      "   -5.06949784e+00   0.00000000e+00]\n",
      " [  0.00000000e+00   5.28697177e-02   0.00000000e+00   0.00000000e+00\n",
      "    0.00000000e+00   6.25162188e-01   1.00000000e+00   0.00000000e+00\n",
      "   -2.10732323e+00   0.00000000e+00]\n",
      " [  0.00000000e+00  -6.50771772e-03   0.00000000e+00   0.00000000e+00\n",
      "    0.00000000e+00  -7.11444910e-01   0.00000000e+00   1.00000000e+00\n",
      "   -3.02357674e-01   0.00000000e+00]\n",
      " [  1.00000000e+00   2.62861800e+00   0.00000000e+00   0.00000000e+00\n",
      "    0.00000000e+00  -3.32799613e+00   0.00000000e+00   0.00000000e+00\n",
      "    1.02768447e+00   0.00000000e+00]\n",
      " [  0.00000000e+00  -3.16239490e-03   0.00000000e+00   0.00000000e+00\n",
      "    0.00000000e+00  -3.57664151e-01   0.00000000e+00   0.00000000e+00\n",
      "   -8.46982876e-01   1.00000000e+00]\n",
      " [  0.00000000e+00   6.02532886e-01   0.00000000e+00   0.00000000e+00\n",
      "    1.00000000e+00  -2.96931835e+00   0.00000000e+00   0.00000000e+00\n",
      "    1.87335748e+00   0.00000000e+00]\n",
      " [  0.00000000e+00   2.23289582e-01   0.00000000e+00   1.00000000e+00\n",
      "    0.00000000e+00  -2.44265065e+00   0.00000000e+00   0.00000000e+00\n",
      "    1.84735584e+00   0.00000000e+00]]\n",
      "NonBasic  :  [8 1 5]\n",
      "Objective  :  386.68519761609184\n",
      "Basic  :  [0 2 3 4 6 7 9]\n",
      "Solution  :  [[  1.98003117e+01]\n",
      " [  0.00000000e+00]\n",
      " [  1.48421645e+00]\n",
      " [  5.95294807e-01]\n",
      " [  1.65959609e+01]\n",
      " [  0.00000000e+00]\n",
      " [  4.82161043e-01]\n",
      " [  1.38025841e-02]\n",
      " [  0.00000000e+00]\n",
      " [  2.04647027e-01]]\n"
     ]
    },
    {
     "data": {
      "text/plain": [
       "[None, None, None, None, None]"
      ]
     },
     "execution_count": 39,
     "metadata": {},
     "output_type": "execute_result"
    }
   ],
   "source": [
    "GX_M = addCuts(M, LPSolution[\"NonBasic\"], A_GX, b_GX)\n",
    "GX_cplex = Py2Cplex(GX_M)\n",
    "GXans = getfromCPLEX(GX_cplex)\n",
    "[print(p,' : ',q) for p,q in GXans.items()]"
   ]
  },
  {
   "cell_type": "code",
   "execution_count": 40,
   "metadata": {
    "collapsed": true
   },
   "outputs": [],
   "source": [
    "IP_M = Py2Cplex(M)"
   ]
  },
  {
   "cell_type": "code",
   "execution_count": 41,
   "metadata": {
    "collapsed": true
   },
   "outputs": [
    {
     "name": "stdout",
     "output_type": "stream",
     "text": [
      "Status :  MIP_optimal\n"
     ]
    },
    {
     "data": {
      "text/plain": [
       "101"
      ]
     },
     "execution_count": 41,
     "metadata": {},
     "output_type": "execute_result"
    }
   ],
   "source": [
    "for i in np.arange(Nvar):\n",
    "    IP_M.variables.set_types(int(i), IP_M.variables.type.integer)\n",
    "    \n",
    "IP_M.set_results_stream(None)\n",
    "IP_M.solve()\n",
    "print('Status : ', IP_M.solution.status[IP_M.solution.get_status()])\n",
    "IP_M.solution.get_status()\n",
    "#print('IP Objective: ',IP_M.solution.get_objective_value())"
   ]
  },
  {
   "cell_type": "markdown",
   "metadata": {},
   "source": [
    "## Summary"
   ]
  },
  {
   "cell_type": "code",
   "execution_count": 42,
   "metadata": {},
   "outputs": [
    {
     "name": "stdout",
     "output_type": "stream",
     "text": [
      "1. LP obj  :  278.0\n",
      "2. With GMI Cuts  :  382.9444444444499\n",
      "3. With X-Cuts  :  372.1279069767486\n",
      "4. With GX-Cuts  :  386.68519761609184\n",
      "5. IP obj  :  543.0\n",
      "\n"
     ]
    }
   ],
   "source": [
    "Summary = {\"1. LP obj\": LPSolution[\"Objective\"],\n",
    "          \"2. With GMI Cuts\": GMIans[\"Objective\"],\n",
    "          \"3. With X-Cuts\": Xans[\"Objective\"],\n",
    "          \"4. With GX-Cuts\": GXans[\"Objective\"]          \n",
    "          }\n",
    "if IP_M.solution.get_status() == 103:\n",
    "    Summary[\"5. IP obj\"] = np.inf\n",
    "else:\n",
    "    Summary[\"5. IP obj\"] = IP_M.solution.get_objective_value()\n",
    "    \n",
    "[print(p,\" : \",q) for p,q in sorted(Summary.items())]\n",
    "print()"
   ]
  }
 ],
 "metadata": {
  "kernelspec": {
   "display_name": "Python 3",
   "language": "python",
   "name": "python3"
  },
  "language_info": {
   "codemirror_mode": {
    "name": "ipython",
    "version": 3
   },
   "file_extension": ".py",
   "mimetype": "text/x-python",
   "name": "python",
   "nbconvert_exporter": "python",
   "pygments_lexer": "ipython3",
   "version": "3.5.4"
  }
 },
 "nbformat": 4,
 "nbformat_minor": 2
}
