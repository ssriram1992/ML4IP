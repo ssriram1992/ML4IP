{
 "cells": [
  {
   "cell_type": "code",
   "execution_count": 37,
   "metadata": {},
   "outputs": [
    {
     "name": "stdout",
     "output_type": "stream",
     "text": [
      "The autoreload extension is already loaded. To reload it, use:\n",
      "  %reload_ext autoreload\n"
     ]
    }
   ],
   "source": [
    "%load_ext autoreload\n",
    "%autoreload 2\n",
    "from ReprVars import *"
   ]
  },
  {
   "cell_type": "code",
   "execution_count": 38,
   "metadata": {
    "collapsed": true
   },
   "outputs": [],
   "source": [
    "f = np.arange(5)\n",
    "Aeq = np.random.randint(0,10,(3,5))\n",
    "beq = np.array([5,5,3])\n",
    "cont = np.array([0,0,0,0,1])"
   ]
  },
  {
   "cell_type": "code",
   "execution_count": 39,
   "metadata": {},
   "outputs": [],
   "source": [
    "MIP1 = MIP(\n",
    "    form = 1,\n",
    "    data = {'f' : f, 'Aeq' : Aeq, 'beq' : beq, 'cont' : cont, 'A':np.array([[]]), 'b': np.array([[]]), 'lb':np.array([-np.inf]*5), 'ub':np.array([np.inf]*5)},\n",
    "    filenames = False\n",
    ")\n",
    "MIP2 = MIP(\n",
    "    form = 2,\n",
    "    data = {'f' : f, 'Aeq' : Aeq, 'beq' : beq, 'cont' : cont, 'A':np.array([[]]), 'b': np.array([[]]), 'lb':np.array([-np.inf]*5), 'ub':np.array([np.inf]*5)},\n",
    "    filenames = False\n",
    ")"
   ]
  },
  {
   "cell_type": "code",
   "execution_count": 40,
   "metadata": {},
   "outputs": [
    {
     "name": "stdout",
     "output_type": "stream",
     "text": [
      "{'nInt': 4, 'nCons': 3, 'nVar': 5} {'nInt': 8.0, 'nCons': 3, 'nVar': 10}\n"
     ]
    }
   ],
   "source": [
    "print(MIP1.size(), MIP2.size())"
   ]
  },
  {
   "cell_type": "code",
   "execution_count": 42,
   "metadata": {},
   "outputs": [
    {
     "name": "stdout",
     "output_type": "stream",
     "text": [
      "[0 1 2 3 4] \n",
      " [[1 2 2 1 2]\n",
      " [3 0 9 1 2]\n",
      " [0 8 4 1 5]] [5 5 3]\n",
      "\n",
      "[[ 0.]\n",
      " [ 1.]\n",
      " [ 2.]\n",
      " [ 3.]\n",
      " [ 4.]\n",
      " [ 0.]\n",
      " [-1.]\n",
      " [-2.]\n",
      " [-3.]\n",
      " [-4.]] \n",
      " [[ 1.  2.  2.  1.  2. -1. -2. -2. -1. -2.]\n",
      " [ 3.  0.  9.  1.  2. -3.  0. -9. -1. -2.]\n",
      " [ 0.  8.  4.  1.  5.  0. -8. -4. -1. -5.]] [[ 5.]\n",
      " [ 5.]\n",
      " [ 3.]]\n"
     ]
    }
   ],
   "source": [
    "print(MIP1.f, '\\n', MIP1.Aeq, MIP1.beq)\n",
    "print()\n",
    "print(MIP2.f, '\\n', MIP2.Aeq, MIP2.beq)"
   ]
  }
 ],
 "metadata": {
  "kernelspec": {
   "display_name": "Python 3",
   "language": "python",
   "name": "python3"
  }
 },
 "nbformat": 4,
 "nbformat_minor": 2
}
