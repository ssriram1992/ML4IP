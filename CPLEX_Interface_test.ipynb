{
 "cells": [
  {
   "cell_type": "markdown",
   "metadata": {},
   "source": [
    "# CPLEX Interface testing"
   ]
  },
  {
   "cell_type": "code",
   "execution_count": 2,
   "metadata": {
    "collapsed": true
   },
   "outputs": [],
   "source": [
    "import numpy as np\n",
    "import scipy as sp"
   ]
  },
  {
   "cell_type": "markdown",
   "metadata": {},
   "source": [
    "### Converting to standard form test"
   ]
  },
  {
   "cell_type": "code",
   "execution_count": 165,
   "metadata": {
    "collapsed": true
   },
   "outputs": [],
   "source": [
    "f2 = np.array([4,2,7,5]).reshape(4,1)\n",
    "A2 = np.random.randint(0,10,3*4).reshape(3,4) # 3 ineq constraints\n",
    "b2 = np.random.randint(50,100,3).reshape(3,1)\n",
    "b2[1,0]=-b2[1,0]\n",
    "Aeq2 = np.random.randint(1,2,1*4).reshape(1,4) # 1 ineq constraint\n",
    "beq2 = np.random.randint(75,125,1).reshape(1,1)\n",
    "lb2 = np.array([-10,0,10,-100]).reshape(4,1)\n",
    "ub2 = np.array([np.inf, np.inf, 100,50]).reshape(f2.shape)\n",
    "cont2 = np.array([1,0,1,0]).reshape(f2.shape)\n",
    "#print(f2, A2,b2, Aeq2, beq2, lb2, ub2, intcon2)"
   ]
  },
  {
   "cell_type": "code",
   "execution_count": 138,
   "metadata": {
    "collapsed": true
   },
   "outputs": [],
   "source": [
    "f2 = -np.array([1,2,3,4,5]).reshape(5,1);\n",
    "Aeq2 = np.array([3,2,0,0,0]).reshape(1,5);\n",
    "beq2 = np.array([[5]]);\n",
    "A2 = np.array([[0, 1, 1, 0, 0],\n",
    "              [0, 0, 1, 1, 0],\n",
    "              [0, 0, 0, 1, 1],\n",
    "              [1, 0, 0, 0, 1]]);\n",
    "\n",
    "b2 = np.array([5,4,3,2]).reshape(4,1)\n",
    "\n",
    "lb2 = np.array([0, -np.inf, -3, 3, 0]).reshape(5,1)\n",
    "ub2 = np.array([np.inf, np.inf, 100, 100, np.inf]).reshape(5,1)\n",
    "\n",
    "cont2 = np.array([1,0,1,0,1]).reshape(f2.shape)"
   ]
  },
  {
   "cell_type": "code",
   "execution_count": 166,
   "metadata": {
    "collapsed": true
   },
   "outputs": [],
   "source": [
    "lb_count = 0\n",
    "ub_count = 0\n",
    "nvar = np.size(f2)\n",
    "# Defining Alb, Aub, blb and bub to convert bound constraints to standard form\n",
    "Aub = np.zeros((np.sum(ub2<np.inf),nvar))\n",
    "temp = np.sum(np.all((lb2!=0, lb2>-np.inf),axis=0)) #Number of lower bound constraints\n",
    "Alb = np.zeros((temp,nvar))\n",
    "bub = np.zeros((np.sum(ub2<np.inf),1))\n",
    "blb = np.zeros((temp,1))        "
   ]
  },
  {
   "cell_type": "code",
   "execution_count": 167,
   "metadata": {},
   "outputs": [
    {
     "name": "stdout",
     "output_type": "stream",
     "text": [
      "0 5 (3, 5)\n",
      "3 6 (3, 6)\n"
     ]
    }
   ],
   "source": [
    "for i in np.arange(nvar):\n",
    "    # Converting bound constraints to <= constraints\n",
    "    # Ensure all variables satisfy >= 0\n",
    "    if ub2[i, 0] < np.inf:\n",
    "        # If upper bound is finite, then a constraint has to be added in standard form\n",
    "        Aub[ub_count, i] = 1\n",
    "        bub[ub_count, 0] = ub2[i]\n",
    "        ub_count = ub_count + 1\n",
    "    if lb2[i,0] < 0:\n",
    "        # If lower bound is less than 0, a constraint has to be added\n",
    "        # In fact a new variable has to be added. So the sizes of all the\n",
    "        # other entities have to be changed.\n",
    "        # i.e., rewriting x = x1 + x2 with x1 >=0 ,x2 >= 0\n",
    "        f2 = np.vstack((f2, [[-f2[i,0]]])) #Corresponding \"-c_i\" for new term in obj\n",
    "        cont2 = np.vstack((cont2, [[cont2[i,0]]])) \n",
    "        t1 = A2.shape[0] # Number of inequality constraints\n",
    "        t2 = Aeq2.shape[0] # Number of equality constraints\n",
    "        t3 = Aub.shape[0] # Number of upperbound constraints\n",
    "        t4 = Alb.shape[0] # Number of lowerbound constraints\n",
    "        # Adding a column to constraint matrices with sign flipped, for the new variable\n",
    "        A2 = np.hstack((A2,\n",
    "                    -A2[:,i].reshape(t1,1)\n",
    "                    ))\n",
    "        Aeq2 = np.hstack((Aeq2,\n",
    "                    -Aeq2[:,i].reshape(t2,1)\n",
    "                    ))\n",
    "        Aub = np.hstack((Aub,\n",
    "                    -Aub[:,i].reshape(t3,1)\n",
    "                    ))\n",
    "        Alb = np.hstack((Alb,\n",
    "                    -Alb[:,i].reshape(t4,1)\n",
    "                    ))\n",
    "        print(i, np.size(f2),Alb.shape)\n",
    "        if lb2[i,0]>-np.inf:\n",
    "            # However if lower bound is not -Inf (i.e., finite), then that constraint is \n",
    "            # added\n",
    "            Alb[lb_count, i] = -1\n",
    "            Alb[lb_count, np.size(f2)-1] = 1 #last variable so far\n",
    "            blb[lb_count, 0] = -lb2[i,0]\n",
    "            lb_count = lb_count+1\n",
    "    else:\n",
    "        if lb2[i,0] > 0:\n",
    "            # If lower bound is greater than 0, constraint has to be added\n",
    "            Alb[lb_count,i] = -1\n",
    "            blb[lb_count, 0] = -lb2[i,0]\n",
    "            lb_count = lb_count+1"
   ]
  },
  {
   "cell_type": "code",
   "execution_count": 168,
   "metadata": {},
   "outputs": [
    {
     "name": "stdout",
     "output_type": "stream",
     "text": [
      "[[ 1  1  1  1 -1 -1]] [[89]] [[-1.  0.  0.  0.  1. -0.]\n",
      " [ 0.  0. -1.  0. -0. -0.]\n",
      " [ 0.  0.  0. -1. -0.  1.]] [[  10.]\n",
      " [ -10.]\n",
      " [ 100.]] [[ 0.  0.  1.  0. -0. -0.]\n",
      " [ 0.  0.  0.  1. -0. -1.]] [[ 100.]\n",
      " [  50.]] [[ 3  5  1  8 -3 -8]\n",
      " [ 5  0  4  3 -5 -3]\n",
      " [ 2  6  1  4 -2 -4]] [[ 99]\n",
      " [-70]\n",
      " [ 78]]\n",
      "[[ 1.  1.  1.  1. -1. -1.  0.  0.  0.  0.  0.  0.  0.  0.]] [[89]] [[-1.  0.  0.  0.  1. -0.  0.  0.  0.  1.  0.  0.  0.  0.]\n",
      " [ 0.  0. -1.  0. -0. -0.  0.  0.  0.  0.  1.  0.  0.  0.]\n",
      " [ 0.  0.  0. -1. -0.  1.  0.  0.  0.  0.  0.  1.  0.  0.]] [[  10.]\n",
      " [ -10.]\n",
      " [ 100.]] [[ 0.  0.  1.  0. -0. -0.  0.  0.  0.  0.  0.  0.  1.  0.]\n",
      " [ 0.  0.  0.  1. -0. -1.  0.  0.  0.  0.  0.  0.  0.  1.]] [[ 100.]\n",
      " [  50.]] [[ 3.  5.  1.  8. -3. -8.  1.  0.  0.  0.  0.  0.  0.  0.]\n",
      " [ 5.  0.  4.  3. -5. -3.  0.  1.  0.  0.  0.  0.  0.  0.]\n",
      " [ 2.  6.  1.  4. -2. -4.  0.  0.  1.  0.  0.  0.  0.  0.]] [[ 99]\n",
      " [-70]\n",
      " [ 78]]\n"
     ]
    }
   ],
   "source": [
    "print(Aeq2, beq2, Alb,blb, Aub,bub, A2,b2)\n",
    "# Count the number of constraints\n",
    "nineq = np.size(b2) # Number of straight forward inequalities\n",
    "neq = np.size(beq2) # Number of straight forward equalities\n",
    "nlb = np.size(blb) # Number of lower bound inequalities\n",
    "nub = np.size(bub) # Number of upper bound inequalities\n",
    "# Now convert inequality constraints to equality constraints\n",
    "# by adding slack variables (identity matrices to ineq constraints)\n",
    "A2 = np.hstack((A2, np.identity(nineq), np.zeros((nineq, nlb+nub))))\n",
    "Alb = np.hstack((Alb, np.zeros((nlb,nineq)),np.identity(nlb),np.zeros((nlb,nub))))\n",
    "Aub = np.hstack((Aub, np.zeros((nub,nineq+nlb)),np.identity(nub)))\n",
    "Aeq2 = np.hstack((Aeq2, np.zeros((neq, nineq+nlb+nub))))\n",
    "# Giving \"0\" in the objectives for slack variables\n",
    "f2 = np.vstack((f2, np.zeros((nineq+nlb+nub,1))))\n",
    "# Slack variables are assumed to be continuous\n",
    "# All input matrices are integers, this can be strengthened and slacks can be called\n",
    "# as integer variables. Perhaps that can give stronger cuts!\n",
    "cont2 = np.vstack((cont2, np.ones((nineq+nlb+nub,1))))\n",
    "print(Aeq2, beq2, Alb,blb, Aub,bub, A2,b2)"
   ]
  },
  {
   "cell_type": "code",
   "execution_count": 169,
   "metadata": {
    "collapsed": true
   },
   "outputs": [],
   "source": [
    "# Creating the final A and b matrices for the standard form\n",
    "Afin = np.vstack((Aeq2, Alb, Aub, A2))\n",
    "bfin = np.vstack((beq2, blb, bub, b2))\n",
    "# Ensure b in standard form is non-negative"
   ]
  },
  {
   "cell_type": "code",
   "execution_count": 170,
   "metadata": {},
   "outputs": [
    {
     "name": "stdout",
     "output_type": "stream",
     "text": [
      "[[ 3.  5.  1.  8. -3. -8.  1.  0.  0.  0.  0.  0.  0.  0.]\n",
      " [ 5.  0.  4.  3. -5. -3.  0.  1.  0.  0.  0.  0.  0.  0.]\n",
      " [ 2.  6.  1.  4. -2. -4.  0.  0.  1.  0.  0.  0.  0.  0.]] [[ 99]\n",
      " [-70]\n",
      " [ 78]]\n",
      "[[ 1.  1.  1.  1. -1. -1.  0.  0.  0.  0.  0.  0.  0.  0.]\n",
      " [-1.  0.  0.  0.  1. -0.  0.  0.  0.  1.  0.  0.  0.  0.]\n",
      " [-0. -0.  1. -0.  0.  0. -0. -0. -0. -0. -1. -0. -0. -0.]\n",
      " [ 0.  0.  0. -1. -0.  1.  0.  0.  0.  0.  0.  1.  0.  0.]\n",
      " [ 0.  0.  1.  0. -0. -0.  0.  0.  0.  0.  0.  0.  1.  0.]\n",
      " [ 0.  0.  0.  1. -0. -1.  0.  0.  0.  0.  0.  0.  0.  1.]\n",
      " [ 3.  5.  1.  8. -3. -8.  1.  0.  0.  0.  0.  0.  0.  0.]\n",
      " [-5. -0. -4. -3.  5.  3. -0. -1. -0. -0. -0. -0. -0. -0.]\n",
      " [ 2.  6.  1.  4. -2. -4.  0.  0.  1.  0.  0.  0.  0.  0.]] [[  89.]\n",
      " [  10.]\n",
      " [  10.]\n",
      " [ 100.]\n",
      " [ 100.]\n",
      " [  50.]\n",
      " [  99.]\n",
      " [  70.]\n",
      " [  78.]]\n"
     ]
    }
   ],
   "source": [
    "negb = np.where(bfin<0)[0]\n",
    "print(A2,b2)\n",
    "Afin[negb,:] = -Afin[negb,:]\n",
    "bfin[negb,:] = -bfin[negb,:]\n",
    "print(Afin,bfin)"
   ]
  },
  {
   "cell_type": "markdown",
   "metadata": {},
   "source": [
    "###  Cplex - Python MIP form interface"
   ]
  },
  {
   "cell_type": "code",
   "execution_count": 171,
   "metadata": {
    "collapsed": true
   },
   "outputs": [],
   "source": [
    "import cplex"
   ]
  },
  {
   "cell_type": "code",
   "execution_count": 172,
   "metadata": {},
   "outputs": [
    {
     "name": "stdout",
     "output_type": "stream",
     "text": [
      "[4.0, 2.0, 7.0, 5.0, -4.0, -5.0, 0.0, 0.0, 0.0, 0.0, 0.0, 0.0, 0.0, 0.0]\n"
     ]
    }
   ],
   "source": [
    "M = cplex.Cplex()\n",
    "M.objective.set_sense(M.objective.sense.minimize)\n",
    "print(f2.squeeze().tolist())\n",
    "M.variables.add(obj=f2.squeeze().tolist())\n",
    "nCons = np.size(bfin)\n",
    "nVar = np.size(f2)"
   ]
  },
  {
   "cell_type": "code",
   "execution_count": 173,
   "metadata": {},
   "outputs": [
    {
     "name": "stdout",
     "output_type": "stream",
     "text": [
      "[[range(0, 14), [1.0, 1.0, 1.0, 1.0, -1.0, -1.0, 0.0, 0.0, 0.0, 0.0, 0.0, 0.0, 0.0, 0.0]], [range(0, 14), [-1.0, 0.0, 0.0, 0.0, 1.0, -0.0, 0.0, 0.0, 0.0, 1.0, 0.0, 0.0, 0.0, 0.0]], [range(0, 14), [-0.0, -0.0, 1.0, -0.0, 0.0, 0.0, -0.0, -0.0, -0.0, -0.0, -1.0, -0.0, -0.0, -0.0]], [range(0, 14), [0.0, 0.0, 0.0, -1.0, -0.0, 1.0, 0.0, 0.0, 0.0, 0.0, 0.0, 1.0, 0.0, 0.0]], [range(0, 14), [0.0, 0.0, 1.0, 0.0, -0.0, -0.0, 0.0, 0.0, 0.0, 0.0, 0.0, 0.0, 1.0, 0.0]], [range(0, 14), [0.0, 0.0, 0.0, 1.0, -0.0, -1.0, 0.0, 0.0, 0.0, 0.0, 0.0, 0.0, 0.0, 1.0]], [range(0, 14), [3.0, 5.0, 1.0, 8.0, -3.0, -8.0, 1.0, 0.0, 0.0, 0.0, 0.0, 0.0, 0.0, 0.0]], [range(0, 14), [-5.0, -0.0, -4.0, -3.0, 5.0, 3.0, -0.0, -1.0, -0.0, -0.0, -0.0, -0.0, -0.0, -0.0]], [range(0, 14), [2.0, 6.0, 1.0, 4.0, -2.0, -4.0, 0.0, 0.0, 1.0, 0.0, 0.0, 0.0, 0.0, 0.0]]]\n"
     ]
    },
    {
     "data": {
      "text/plain": [
       "range(0, 9)"
      ]
     },
     "execution_count": 173,
     "metadata": {},
     "output_type": "execute_result"
    }
   ],
   "source": [
    "LHS = [[range(nVar), Afin[i,:].copy().squeeze().tolist()] for i in range(nCons)]\n",
    "M.linear_constraints.add(lin_expr = LHS, senses='E'*nCons, rhs=bfin.squeeze().tolist())"
   ]
  },
  {
   "cell_type": "code",
   "execution_count": 203,
   "metadata": {},
   "outputs": [
    {
     "name": "stdout",
     "output_type": "stream",
     "text": [
      "CPXPARAM_Preprocessing_Presolve                  0\n",
      "CPXPARAM_Read_DataCheck                          1\n",
      "CPXPARAM_LPMethod                                1\n",
      "CPXPARAM_Read_APIEncoding                        \"UTF-8\"\n",
      "CPXPARAM_MIP_Strategy_CallbackReducedLP          0\n"
     ]
    }
   ],
   "source": [
    "M.parameters.lpmethod.set(M.parameters.lpmethod.values.primal)\n",
    "M.parameters.preprocessing.presolve.set(0)\n",
    "M.solve()"
   ]
  },
  {
   "cell_type": "code",
   "execution_count": 246,
   "metadata": {},
   "outputs": [
    {
     "name": "stdout",
     "output_type": "stream",
     "text": [
      "infeasible\n",
      "316.0000000000001\n",
      "[    0.   815.  2360.     0.  1474.   900.  6078.     0.     0. -1384.\n",
      "  2270.     0. -1460.  1350.]\n"
     ]
    }
   ],
   "source": [
    "print(M.solution.status[M.solution.get_status()])\n",
    "print(M.solution.get_objective_value())\n",
    "print(np.array(M.solution.get_values())*9)"
   ]
  },
  {
   "cell_type": "code",
   "execution_count": 240,
   "metadata": {},
   "outputs": [
    {
     "name": "stdout",
     "output_type": "stream",
     "text": [
      "[[ -0.   9.   0.   0.   0.   0.   0.  -1.   1.   0.   0.   4.   0.   0.]\n",
      " [ -0.   0.   9.   0.   0.   0.   0.  -4.  -5.   0.   0.  -2.   0.   0.]\n",
      " [ -9.   0.   0.   0.   9.   0.   0.  -5.  -4.   0.   0.  -7.   0.   0.]\n",
      " [  0.   0.   0.  -9.   0.   9.   0.   0.   0.   0.   0.   9.   0.   0.]\n",
      " [ -0.   0.   0.   0.   0.   0.   9.  -6. -12.   0.   0.  33.   0.   0.]\n",
      " [  0.   0.   0.   0.   0.   0.   0.   5.   4.   9.   0.   7.   0.   0.]\n",
      " [ -0.   0.   0.   0.   0.   0.   0.  -4.  -5.   0.   9.  -2.   0.   0.]\n",
      " [  0.   0.   0.   0.   0.   0.   0.   4.   5.   0.   0.   2.   9.   0.]\n",
      " [  0.   0.   0.   0.   0.   0.   0.   0.   0.   0.   0.   9.   0.   9.]]\n",
      "14\n",
      "9\n"
     ]
    }
   ],
   "source": [
    "print(np.around(9*np.array(M.solution.advanced.binvarow()), 10))\n",
    "print(M.variables.get_num())\n",
    "print(M.linear_constraints.get_num())"
   ]
  },
  {
   "cell_type": "code",
   "execution_count": 248,
   "metadata": {},
   "outputs": [
    {
     "data": {
      "text/plain": [
       "14"
      ]
     },
     "execution_count": 248,
     "metadata": {},
     "output_type": "execute_result"
    }
   ],
   "source": [
    "M.variables.get_num()"
   ]
  },
  {
   "cell_type": "code",
   "execution_count": 5,
   "metadata": {},
   "outputs": [
    {
     "name": "stdout",
     "output_type": "stream",
     "text": [
      "[0 1 1 0 0 1 1 0 1 1]\n"
     ]
    }
   ],
   "source": [
    "temp = np.random.randint(0,2,(10,))\n",
    "print(temp)"
   ]
  },
  {
   "cell_type": "code",
   "execution_count": 7,
   "metadata": {},
   "outputs": [
    {
     "name": "stdout",
     "output_type": "stream",
     "text": [
      "['C', 'I', 'I', 'C', 'C', 'I', 'I', 'C', 'I', 'I']\n"
     ]
    }
   ],
   "source": [
    "temp2 = ['I' if i==1 else 'C' for i in temp]\n",
    "print(temp2)"
   ]
  },
  {
   "cell_type": "code",
   "execution_count": 10,
   "metadata": {},
   "outputs": [
    {
     "name": "stdout",
     "output_type": "stream",
     "text": [
      "[0 1 1 0 0 1 1 0 1 1]\n"
     ]
    }
   ],
   "source": [
    "temp3 = [0 if i=='C' else 1 for i in temp2]\n",
    "print(np.array(temp3))"
   ]
  }
 ],
 "metadata": {
  "kernelspec": {
   "display_name": "Python 3",
   "language": "python",
   "name": "python3"
  },
  "language_info": {
   "codemirror_mode": {
    "name": "ipython",
    "version": 3
   },
   "file_extension": ".py",
   "mimetype": "text/x-python",
   "name": "python",
   "nbconvert_exporter": "python",
   "pygments_lexer": "ipython3",
   "version": "3.5.4"
  }
 },
 "nbformat": 4,
 "nbformat_minor": 2
}
